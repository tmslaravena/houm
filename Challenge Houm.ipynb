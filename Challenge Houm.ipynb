{
 "cells": [
  {
   "cell_type": "markdown",
   "metadata": {},
   "source": [
    "# Challenge Houm"
   ]
  },
  {
   "cell_type": "markdown",
   "metadata": {},
   "source": [
    "El challenge se realiza de acuerdo a las indicaciones, entregando cada respuesta en forma de una función que realice todos los cálculos. En la celda siguiente se muestra la ejecución de la función con un mensaje mostrando la respuesta"
   ]
  },
  {
   "cell_type": "code",
   "execution_count": 3,
   "metadata": {},
   "outputs": [],
   "source": [
    "import requests\n",
    "import numpy as np"
   ]
  },
  {
   "cell_type": "markdown",
   "metadata": {},
   "source": [
    "## Pregunta 1"
   ]
  },
  {
   "cell_type": "markdown",
   "metadata": {},
   "source": [
    "Obtén cuantos pokemones poseen en sus nombres “at” y tienen 2 “a” en su nombre, incluyendo la primera del “at”. Tu respuesta debe ser un número."
   ]
  },
  {
   "cell_type": "code",
   "execution_count": 4,
   "metadata": {},
   "outputs": [],
   "source": [
    "def pregunta1():\n",
    "    # Numero de pokemons que cumplen la condicion\n",
    "    pokemons_p1 = 0\n",
    "    # URL base.\n",
    "    base_url = 'https://pokeapi.co/api/v2/pokemon/'\n",
    "    # Obtener la respuesta para el id.\n",
    "    response      = requests.get(base_url)\n",
    "    # json\n",
    "    json_response = response.json()\n",
    "    # Numero de pokemon.\n",
    "    nPokemons = json_response['count']\n",
    "    # Iterar sobre los pokemons\n",
    "    for id in range(1, nPokemons):\n",
    "        # Obtener el pokemon\n",
    "        poke_response = requests.get(base_url + str(id))\n",
    "        #\n",
    "        if (poke_response.status_code == 200):\n",
    "            # json.\n",
    "            json_response = poke_response.json()\n",
    "            # Obtener el nombre\n",
    "            nombre = json_response['name'].lower()\n",
    "            # Chequear condiciones.\n",
    "            # Dos a.\n",
    "            if (nombre.count('a') == 2):\n",
    "                # Tiene at?\n",
    "                if (nombre.count('at') == True):\n",
    "                    # Incrementar el contador.\n",
    "                    pokemons_p1 += 1\n",
    "        else:\n",
    "            break\n",
    "    #\n",
    "    return pokemons_p1"
   ]
  },
  {
   "cell_type": "code",
   "execution_count": null,
   "metadata": {},
   "outputs": [],
   "source": [
    "# Respuesta pregunta 1.\n",
    "res_P1 = pregunta1()\n",
    "# \n",
    "print('Existen', res_P1, 'pokemons que cumplen las condiciones de la pregunta 1')"
   ]
  },
  {
   "cell_type": "code",
   "execution_count": null,
   "metadata": {},
   "outputs": [],
   "source": []
  }
 ],
 "metadata": {
  "kernelspec": {
   "display_name": "Python 3",
   "language": "python",
   "name": "python3"
  },
  "language_info": {
   "codemirror_mode": {
    "name": "ipython",
    "version": 3
   },
   "file_extension": ".py",
   "mimetype": "text/x-python",
   "name": "python",
   "nbconvert_exporter": "python",
   "pygments_lexer": "ipython3",
   "version": "3.7.6"
  }
 },
 "nbformat": 4,
 "nbformat_minor": 4
}
