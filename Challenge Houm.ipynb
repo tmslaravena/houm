{
 "cells": [
  {
   "cell_type": "markdown",
   "metadata": {},
   "source": [
    "# Challenge Houm"
   ]
  },
  {
   "cell_type": "markdown",
   "metadata": {},
   "source": [
    "El challenge se realiza de acuerdo a las indicaciones, entregando cada respuesta en forma de una función que realice todos los cálculos. En la celda siguiente se muestra la ejecución de la función con un mensaje mostrando la respuesta"
   ]
  },
  {
   "cell_type": "code",
   "execution_count": 3,
   "metadata": {},
   "outputs": [],
   "source": [
    "import requests\n",
    "import numpy as np"
   ]
  },
  {
   "cell_type": "markdown",
   "metadata": {},
   "source": [
    "## Pregunta 1"
   ]
  },
  {
   "cell_type": "markdown",
   "metadata": {},
   "source": [
    "Obtén cuantos pokemones poseen en sus nombres “at” y tienen 2 “a” en su nombre, incluyendo la primera del “at”. Tu respuesta debe ser un número."
   ]
  },
  {
   "cell_type": "code",
   "execution_count": 4,
   "metadata": {},
   "outputs": [],
   "source": [
    "def pregunta1():\n",
    "    # Numero de pokemons que cumplen la condicion\n",
    "    pokemons_p1 = 0\n",
    "    # URL base.\n",
    "    base_url = 'https://pokeapi.co/api/v2/pokemon/'\n",
    "    # Obtener la respuesta para el id.\n",
    "    response      = requests.get(base_url)\n",
    "    # json\n",
    "    json_response = response.json()\n",
    "    # Numero de pokemon.\n",
    "    nPokemons = json_response['count']\n",
    "    # Iterar sobre los pokemons\n",
    "    for id in range(1, nPokemons):\n",
    "        # Obtener el pokemon\n",
    "        poke_response = requests.get(base_url + str(id))\n",
    "        #\n",
    "        if (poke_response.status_code == 200):\n",
    "            # json.\n",
    "            json_response = poke_response.json()\n",
    "            # Obtener el nombre\n",
    "            nombre = json_response['name'].lower()\n",
    "            # Chequear condiciones.\n",
    "            # Dos a.\n",
    "            if (nombre.count('a') == 2):\n",
    "                # Tiene at?\n",
    "                if (nombre.count('at') == True):\n",
    "                    # Incrementar el contador.\n",
    "                    pokemons_p1 += 1\n",
    "        else:\n",
    "            break\n",
    "    #\n",
    "    return pokemons_p1"
   ]
  },
  {
   "cell_type": "code",
   "execution_count": 5,
   "metadata": {},
   "outputs": [
    {
     "name": "stdout",
     "output_type": "stream",
     "text": [
      "Existen 7 pokemons que cumplen las condiciones de la pregunta 1\n"
     ]
    }
   ],
   "source": [
    "# Respuesta pregunta 1.\n",
    "res_P1 = pregunta1()\n",
    "# \n",
    "print('Existen', res_P1, 'pokemons que cumplen las condiciones de la pregunta 1')"
   ]
  },
  {
   "cell_type": "markdown",
   "metadata": {},
   "source": [
    "## Pregunta 2"
   ]
  },
  {
   "cell_type": "markdown",
   "metadata": {},
   "source": [
    "¿Con cuántas especies de pokémon puede procrear raichu? (2 Pokémon pueden procrear si están dentro del mismo egg group). Tu respuesta debe ser un número. Recuerda eliminar los duplicados."
   ]
  },
  {
   "cell_type": "code",
   "execution_count": 6,
   "metadata": {},
   "outputs": [],
   "source": [
    "def parejasRaichu():\n",
    "    \"\"\"\n",
    "    Obtiene el numero de especies pokemon con las que puede procrear raichu.\n",
    "    Pregunta 2 del challenge. Cambiando el pokemon en raichu_response el codigo podría extenderse.\n",
    "    Se podria agregar esto como un argument de la funcion, pero la plataforma indica entregar una funcion \n",
    "    que entregue la respuesta.\n",
    "    \"\"\"\n",
    "    # Obtener la informacion de raichu\n",
    "    raichu_response   = requests.get('https://pokeapi.co/api/v2/pokemon/raichu')\n",
    "    # json de Raichu.\n",
    "    raichu_json       = raichu_response.json()\n",
    "    # Obtener la informacion de especie.\n",
    "    species_response = requests.get(raichu_json['species']['url'])\n",
    "    # json de especie \n",
    "    species_json     = species_response.json()\n",
    "    # EggGroups a los que pertenece raichu\n",
    "    eggGroups_raichu = species_json['egg_groups']\n",
    "    # Crear lista para contener a miembros de cada eggGroup.\n",
    "    eggGroup_members = []\n",
    "    # Iterar para obtener los miembros de cada grupo.\n",
    "    for eggGroup_info in eggGroups_raichu:\n",
    "        # Obtener el json del egggroup.\n",
    "        group_json = requests.get(eggGroup_info['url']).json()\n",
    "        # Iterar sobre los pokemones.\n",
    "        for pokemon in group_json['pokemon_species']:\n",
    "            # Incluir el nombre en la lista.\n",
    "            eggGroup_members.append(pokemon['name'].lower()) \n",
    "    # Obtener elementos unicos (uso numpy).\n",
    "    eggGroup_members = np.array(eggGroup_members)\n",
    "    eggGroup_members = np.unique(eggGroup_members)\n",
    "    # Numero de procreadores = Largo del array \n",
    "    nEspecies = eggGroup_members.size       \n",
    "    #\n",
    "    return nEspecies    "
   ]
  },
  {
   "cell_type": "code",
   "execution_count": 7,
   "metadata": {
    "scrolled": true
   },
   "outputs": [
    {
     "name": "stdout",
     "output_type": "stream",
     "text": [
      "Raichu puede procrear con 258 especies (incluida la misma)\n"
     ]
    }
   ],
   "source": [
    "# Obtener el número de parejas.\n",
    "parejas = parejasRaichu()\n",
    "print(\"Raichu puede procrear con\", parejas, \"especies (incluida la misma)\")"
   ]
  },
  {
   "cell_type": "markdown",
   "metadata": {},
   "source": [
    "# Pregunta 3"
   ]
  },
  {
   "cell_type": "markdown",
   "metadata": {},
   "source": [
    "Entrega el máximo y mínimo peso de los pokémon de tipo fighting de primera generación (cuyo id sea menor o igual a 151). Tu respuesta debe ser una lista con el siguiente formato: [1234, 12], en donde 1234 corresponde al máximo peso y 12 al mínimo."
   ]
  },
  {
   "cell_type": "code",
   "execution_count": 8,
   "metadata": {},
   "outputs": [],
   "source": [
    "def get_weights_statistics():\n",
    "    # Limite de la primera generacion (incluye)\n",
    "    limit = 151 + 1\n",
    "    # URL base.\n",
    "    base_url = 'https://pokeapi.co/api/v2/pokemon/'\n",
    "    # Crear los containers para la información.\n",
    "    pesos = []\n",
    "    tipos = []\n",
    "    # Iterar sobre los pokemon.\n",
    "    for id in range(1, limit):\n",
    "        # Obtener la respuesta para el id.\n",
    "        response      = requests.get(base_url + str(id))\n",
    "        # json\n",
    "        json_response = response.json()\n",
    "        # Iterar sobre los tipos.\n",
    "        for one_type in json_response['types']:\n",
    "            # Chequear tipo.\n",
    "            if (one_type['type']['name'] == 'fighting'):\n",
    "                # Agregar el peso.\n",
    "                pesos.append(json_response['weight'])\n",
    "                # Dejar de revisar\n",
    "                break\n",
    "    # Armar el array\n",
    "    min_peso = min(pesos)\n",
    "    max_peso = max(pesos)\n",
    "    #\n",
    "    return [max_peso, min_peso]"
   ]
  },
  {
   "cell_type": "code",
   "execution_count": 9,
   "metadata": {},
   "outputs": [
    {
     "name": "stdout",
     "output_type": "stream",
     "text": [
      "[Peso Máximo, Peso Mínimo] = [1300, 195]\n"
     ]
    }
   ],
   "source": [
    "# Obtener los pesos\n",
    "pesos = get_weights_statistics()\n",
    "print(\"[Peso Máximo, Peso Mínimo] =\", pesos)"
   ]
  },
  {
   "cell_type": "code",
   "execution_count": null,
   "metadata": {},
   "outputs": [],
   "source": []
  },
  {
   "cell_type": "code",
   "execution_count": null,
   "metadata": {},
   "outputs": [],
   "source": []
  }
 ],
 "metadata": {
  "kernelspec": {
   "display_name": "Python 3",
   "language": "python",
   "name": "python3"
  },
  "language_info": {
   "codemirror_mode": {
    "name": "ipython",
    "version": 3
   },
   "file_extension": ".py",
   "mimetype": "text/x-python",
   "name": "python",
   "nbconvert_exporter": "python",
   "pygments_lexer": "ipython3",
   "version": "3.7.6"
  }
 },
 "nbformat": 4,
 "nbformat_minor": 4
}
